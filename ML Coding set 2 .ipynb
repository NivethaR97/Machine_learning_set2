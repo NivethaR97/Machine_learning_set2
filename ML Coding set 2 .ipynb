{
 "cells": [
  {
   "cell_type": "markdown",
   "id": "1e823ff1-54b9-44ed-8ef5-d10d1fc6bf48",
   "metadata": {},
   "source": [
    "# 1.Identify Customers with High Purchase Frequency\n",
    "import pandas as pd\n",
    "\n",
    "data = {'Customer_ID': [101, 102, 103, 101, 104, 102, 101, 105, 102, 103],\n",
    "        'Purchase_Amount': [200, 150, 180, 220, 300, 200, 100, 400, 250, 300]}\n",
    "\n",
    "df = pd.DataFrame(data)\n",
    "\n",
    "\n",
    "Task:\n",
    "Group customers by Customer_ID and count the number of purchases per customer.\n",
    "\n",
    "Identify the top 3 customers with the highest number of purchases.\n",
    "\n",
    "Expected Output:\n",
    "    Customer Purchase Frequency:\n",
    "   Customer_ID  Purchase_Count\n",
    "0         101               3\n",
    "1         102               3\n",
    "2         103               2\n",
    "3         104               1\n",
    "4         105               1\n",
    "\n",
    "Top 3 Frequent Customers:\n",
    "   Customer_ID  Purchase_Count\n",
    "0         101               3\n",
    "1         102               3\n",
    "2         103               2\n"
   ]
  },
  {
   "cell_type": "code",
   "execution_count": 39,
   "id": "aa3b29d9-e3b5-4660-a615-ef3b1f291b27",
   "metadata": {},
   "outputs": [
    {
     "name": "stdout",
     "output_type": "stream",
     "text": [
      "Customer Purchase Frequency: \n",
      "    Customer_ID  Purchase_Count\n",
      "0          101               3\n",
      "1          102               3\n",
      "2          103               2\n",
      "3          104               1\n",
      "4          105               1\n",
      "Top 3 Frequent Customers:\n",
      "    Customer_ID  Purchase_Count\n",
      "0          101               3\n",
      "1          102               3\n",
      "2          103               2\n"
     ]
    }
   ],
   "source": [
    "import pandas as pd\n",
    "data = {'Customer_ID': [101, 102, 103, 101, 104, 102, 101, 105, 102, 103],\n",
    "        'Purchase_Amount': [200, 150, 180, 220, 300, 200, 100, 400, 250, 300]}\n",
    "\n",
    "df = pd.DataFrame(data)\n",
    "purchase_freq=df.groupby(\"Customer_ID\").size().reset_index(name=\"Purchase_Count\")\n",
    "print(\"Customer Purchase Frequency: \\n\", purchase_freq)\n",
    "freq_customer=purchase_freq.sort_values(by=\"Purchase_Count\",ascending=False).head(3)\n",
    "print(\"Top 3 Frequent Customers:\\n\",freq_customer)"
   ]
  },
  {
   "cell_type": "markdown",
   "id": "39def739-ac85-494f-bbb4-e1c0af9f130f",
   "metadata": {},
   "source": [
    "# 2. Find Students with the Highest Average Exam Scores\n",
    "import pandas as pd\n",
    "\n",
    "data = {'Student_ID': [201, 202, 203, 201, 204, 202, 201, 205, 202, 203],\n",
    "        'Exam_Score': [85, 90, 78, 88, 92, 87, 80, 95, 89, 84]}\n",
    "\n",
    "df = pd.DataFrame(data)\n",
    "\n",
    "Task:\n",
    "Calculate the average exam score per student.\n",
    "\n",
    "Display the top 3 students with the highest average scores.\n",
    "\n",
    "Expected Output:\n",
    "\n",
    "Average Exam Scores per Student:\n",
    "   Student_ID  Avg_Score\n",
    "0        201   84.33\n",
    "1        202   88.67\n",
    "2        203   81.00\n",
    "3        204   92.00\n",
    "4        205   95.00\n",
    "\n",
    "Top 3 Students:\n",
    "   Student_ID  Avg_Score\n",
    "0        205   95.00\n",
    "1        204   92.00\n",
    "2        202   88.67"
   ]
  },
  {
   "cell_type": "code",
   "execution_count": 111,
   "id": "ef05437a-98ce-445e-9bd0-7d5d3e26a655",
   "metadata": {},
   "outputs": [
    {
     "name": "stdout",
     "output_type": "stream",
     "text": [
      "Average Exam Scores per Student:\n",
      "    Student_ID  Avg_Score\n",
      "0         201      84.33\n",
      "1         202      88.67\n",
      "2         203      81.00\n",
      "3         204      92.00\n",
      "4         205      95.00\n",
      "Top 3 Students:\n",
      "    Student_ID  Avg_Score\n",
      "4         205      95.00\n",
      "3         204      92.00\n",
      "1         202      88.67\n"
     ]
    }
   ],
   "source": [
    "import pandas as pd\n",
    "\n",
    "data = {'Student_ID': [201, 202, 203, 201, 204, 202, 201, 205, 202, 203],\n",
    "        'Exam_Score': [85, 90, 78, 88, 92, 87, 80, 95, 89, 84]}\n",
    "\n",
    "df = pd.DataFrame(data)\n",
    "average=df.groupby(\"Student_ID\")[\"Exam_Score\"].mean().round(2).reset_index(name=\"Avg_Score\")\n",
    "print(f\"Average Exam Scores per Student:\\n {average}\")\n",
    "top=average.sort_values(by=\"Avg_Score\",ascending=False).head(3)\n",
    "print(f\"Top 3 Students:\\n {top}\")"
   ]
  },
  {
   "cell_type": "markdown",
   "id": "6cef0c8c-04e9-4a0b-b014-434cc0093d05",
   "metadata": {},
   "source": [
    "# 3. Predict House Prices Using Linear Regression\n",
    "Dataset:\n",
    "\n",
    "import pandas as pd\n",
    "\n",
    "data = {'Size_sqft': [1500, 1800, 2400, 3000, 3500, 4000],\n",
    "        'Price': [300000, 350000, 450000, 550000, 650000, 700000]}\n",
    "\n",
    "df = pd.DataFrame(data)\n",
    "Task:\n",
    "Train a Linear Regression model to predict house prices based on Size_sqft.\n",
    "\n",
    "Predict the price of a house of size 2800 sqft.\n",
    "\n",
    "Expected Output:\n",
    "Predicted Price for 2800 sqft: $516491"
   ]
  },
  {
   "cell_type": "code",
   "execution_count": 75,
   "id": "01d4f8f2-2a0f-4a21-8a69-0dbc8eef8fba",
   "metadata": {},
   "outputs": [],
   "source": [
    "import warnings\n",
    "warnings.filterwarnings('ignore')"
   ]
  },
  {
   "cell_type": "code",
   "execution_count": 166,
   "id": "594ffdc3-efcd-4d5b-bb38-a1c5b4fb59e1",
   "metadata": {},
   "outputs": [
    {
     "name": "stdout",
     "output_type": "stream",
     "text": [
      "Predicted Price for 2800 sqft:$516492\n"
     ]
    }
   ],
   "source": [
    "import pandas as pd\n",
    "from sklearn.model_selection import train_test_split\n",
    "from sklearn.linear_model import LinearRegression\n",
    "\n",
    "data = {'Size_sqft': [1500, 1800, 2400, 3000, 3500, 4000],\n",
    "        'Price': [300000, 350000, 450000, 550000, 650000, 700000]}\n",
    "\n",
    "df = pd.DataFrame(data)\n",
    "X=df[[\"Size_sqft\"]]\n",
    "y=df[\"Price\"]\n",
    "model=LinearRegression()\n",
    "model.fit(X,y)\n",
    "result=model.predict([[2800]])\n",
    "print(f\"Predicted Price for 2800 sqft:${result[0]:.0f}\")"
   ]
  },
  {
   "cell_type": "markdown",
   "id": "47ab8bdb-a0fe-4cba-a8f9-1a8bbaae177d",
   "metadata": {},
   "source": [
    "4. Identify the Most Commonly Purchased Products\n",
    "dataset:\n",
    "import pandas as pd\n",
    "\n",
    "data = {'Product_ID': ['P101', 'P102', 'P103', 'P101', 'P104', 'P102', 'P101', 'P105', 'P102', 'P103'],\n",
    "        'Purchase_Count': [5, 3, 4, 2, 1, 6, 7, 3, 2, 5]}\n",
    "\n",
    "df = pd.DataFrame(data)\n",
    "Task:\n",
    "Group products by Product_ID and sum their Purchase_Count.\n",
    "\n",
    "Identify the top 3 most purchased products.\n",
    "\n",
    "Expected Output:\n",
    "\n",
    "Product Purchase Counts:\n",
    "   Product_ID  Total_Purchases\n",
    "0       P101               14\n",
    "1       P102               11\n",
    "2       P103                9\n",
    "3       P104                1\n",
    "4       P105                3\n",
    "\n",
    "Top 3 Purchased Products:\n",
    "   Product_ID  Total_Purchases\n",
    "0       P101               14\n",
    "1       P102               11\n",
    "2       P103                9\n"
   ]
  },
  {
   "cell_type": "code",
   "execution_count": 123,
   "id": "f8b3686c-adb5-4d99-ad62-477ddb138725",
   "metadata": {},
   "outputs": [
    {
     "name": "stdout",
     "output_type": "stream",
     "text": [
      "Product Purchase Counts:\n",
      "  Product_ID  Total_Purchases\n",
      "0       P101               14\n",
      "1       P102               11\n",
      "2       P103                9\n",
      "3       P104                1\n",
      "4       P105                3\n",
      "Top 3 Purchased Products:\n",
      "  Product_ID  Total_Purchases\n",
      "0       P101               14\n",
      "1       P102               11\n",
      "2       P103                9\n"
     ]
    }
   ],
   "source": [
    "import pandas as pd\n",
    "\n",
    "data = {'Product_ID': ['P101', 'P102', 'P103', 'P101', 'P104', 'P102', 'P101', 'P105', 'P102', 'P103'],\n",
    "        'Purchase_Count': [5, 3, 4, 2, 1, 6, 7, 3, 2, 5]}\n",
    "\n",
    "df = pd.DataFrame(data)\n",
    "total=df.groupby(\"Product_ID\")[\"Purchase_Count\"].sum().reset_index(name=\"Total_Purchases\")\n",
    "print(f\"Product Purchase Counts:\\n{total}\")\n",
    "top=total.sort_values(by='Total_Purchases',ascending=False).head(3)\n",
    "print(f\"Top 3 Purchased Products:\\n{top}\")"
   ]
  },
  {
   "cell_type": "markdown",
   "id": "439b9eef-4be7-4bd3-8d49-63f15d85320c",
   "metadata": {},
   "source": [
    "5. Cluster Customers Based on Their Purchase Amounts\n",
    "Dataset:\n",
    "import pandas as pd\n",
    "\n",
    "data = {'Customer_ID': [1, 2, 3, 4, 5, 6, 7, 8, 9, 10],\n",
    "        'Total_Spend': [500, 1500, 2000, 2500, 3000, 3500, 4000, 1000, 1200, 2700]}\n",
    "\n",
    "df = pd.DataFrame(data)\n",
    "\n",
    "Task:\n",
    "Apply K-Means Clustering to segment customers into 3 clusters.\n",
    "\n",
    "Print the cluster labels for each customer.\n",
    "\n",
    "Expected Output:\n",
    "Customer Clusters:\n",
    "   Customer_ID  Total_Spend  Cluster_Label\n",
    "0            1          500              1\n",
    "1            2         1500              1\n",
    "2            3         2000              2\n",
    "3            4         2500              2\n",
    "4            5         3000              2\n",
    "5            6         3500              0\n",
    "6            7         4000              0\n",
    "7            8         1000              1\n",
    "8            9         1200              1\n",
    "9           10         2700              2"
   ]
  },
  {
   "cell_type": "code",
   "execution_count": 159,
   "id": "abc8f26b-93ab-44fc-9592-1201b9e2a405",
   "metadata": {},
   "outputs": [
    {
     "name": "stdout",
     "output_type": "stream",
     "text": [
      "Customers Clusters:\n",
      "   Customer_ID  Total_Spend  Cluster_Label\n",
      "0            1          500              1\n",
      "1            2         1500              1\n",
      "2            3         2000              2\n",
      "3            4         2500              2\n",
      "4            5         3000              0\n",
      "5            6         3500              0\n",
      "6            7         4000              0\n",
      "7            8         1000              1\n",
      "8            9         1200              1\n",
      "9           10         2700              2\n"
     ]
    }
   ],
   "source": [
    "import pandas as pd\n",
    "from sklearn.cluster import KMeans\n",
    "\n",
    "data = {'Customer_ID': [1, 2, 3, 4, 5, 6, 7, 8, 9, 10],\n",
    "        'Total_Spend': [500, 1500, 2000, 2500, 3000, 3500, 4000, 1000, 1200, 2700]}\n",
    "\n",
    "df = pd.DataFrame(data)\n",
    "model=KMeans(n_clusters=3,random_state=0)\n",
    "cluster=model.fit_predict(df[[\"Total_Spend\"]])\n",
    "df[\"Cluster_Label\"]=cluster\n",
    "print(f\"Customers Clusters:\\n{df}\")"
   ]
  },
  {
   "cell_type": "code",
   "execution_count": null,
   "id": "a4f73179",
   "metadata": {},
   "outputs": [],
   "source": []
  },
  {
   "cell_type": "code",
   "execution_count": null,
   "id": "bf02fcd6",
   "metadata": {},
   "outputs": [],
   "source": []
  }
 ],
 "metadata": {
  "kernelspec": {
   "display_name": "Python [conda env:base] *",
   "language": "python",
   "name": "conda-base-py"
  },
  "language_info": {
   "codemirror_mode": {
    "name": "ipython",
    "version": 3
   },
   "file_extension": ".py",
   "mimetype": "text/x-python",
   "name": "python",
   "nbconvert_exporter": "python",
   "pygments_lexer": "ipython3",
   "version": "3.12.9"
  }
 },
 "nbformat": 4,
 "nbformat_minor": 5
}
